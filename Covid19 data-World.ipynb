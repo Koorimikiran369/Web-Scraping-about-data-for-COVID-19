{
 "cells": [
  {
   "cell_type": "code",
   "execution_count": 1,
   "metadata": {},
   "outputs": [],
   "source": [
    "import pandas as pd\n",
    "import numpy as np\n",
    "import re\n",
    "from bs4 import BeautifulSoup \n",
    "import requests"
   ]
  },
  {
   "cell_type": "code",
   "execution_count": 2,
   "metadata": {},
   "outputs": [],
   "source": [
    "website_url = requests.get('https://www.orfonline.org/covid19-tracker/').text"
   ]
  },
  {
   "cell_type": "code",
   "execution_count": 3,
   "metadata": {},
   "outputs": [
    {
     "name": "stdout",
     "output_type": "stream",
     "text": [
      "<!DOCTYPE html>\n",
      "<html lang=\"en\" xmlns=\"http://www.w3.org/1999/xhtml\">\n",
      " <head>\n",
      "  <link href=\"https://cdn.sucuri.net/sucuri-firewall-block.css\" rel=\"stylesheet\"/>\n",
      "  <section class=\"center clearfix\">\n",
      "   <meta content=\"width=device-width, initial-scale=1.0\" name=\"viewport\"/>\n",
      "   <title>\n",
      "    Sucuri WebSite Firewall - Access Denied\n",
      "   </title>\n",
      "   <link href=\"https://fonts.googleapis.com/css?family=Open+Sans:400,300,600,700\" rel=\"stylesheet\" type=\"text/css\"/>\n",
      "  </section>\n",
      " </head>\n",
      " <body>\n",
      "  <div id=\"main-container\">\n",
      "   <header class=\"app-header clearfix\">\n",
      "    <div class=\"wrap\">\n",
      "     <a class=\"logo\" href=\"https://www.sucuri.net/?utm_source=firewall_block\">\n",
      "     </a>\n",
      "     <span class=\"logo-neartext\">\n",
      "      Website Firewall\n",
      "     </span>\n",
      "     <a class=\"site-link\" href=\"https://sucuri.net/?utm_source=firewall_block\">\n",
      "      Back to sucuri.net\n",
      "     </a>\n",
      "    </div>\n",
      "   </header>\n",
      "   <section class=\"app-content access-denied clearfix\">\n",
      "    <div class=\"box center width-max-940\">\n",
      "     <h1 class=\"brand-font font-size-xtra no-margin\">\n",
      "      <i class=\"icon-circle-red\">\n",
      "      </i>\n",
      "      Access Denied - Sucuri Website Firewall\n",
      "     </h1>\n",
      "     <p class=\"medium-text code-snippet\">\n",
      "      If you are the site owner (or you manage this site), please whitelist your IP or if you think this block is an error please\n",
      "      <a class=\"color-green underline\" href=\"https://support.sucuri.net/?utm_source=firewall_block\">\n",
      "       open a support ticket\n",
      "      </a>\n",
      "      and make sure to include the block details (displayed in the box below), so we can assist you in troubleshooting the issue.\n",
      "     </p>\n",
      "     <h2>\n",
      "      Block details:\n",
      "     </h2>\n",
      "     <table class=\"property-table overflow-break-all line-height-16\">\n",
      "      <tr>\n",
      "       <td>\n",
      "        Your IP:\n",
      "       </td>\n",
      "       <td>\n",
      "        <span>\n",
      "         183.83.247.236\n",
      "        </span>\n",
      "       </td>\n",
      "      </tr>\n",
      "      <tr>\n",
      "       <td>\n",
      "        URL:\n",
      "       </td>\n",
      "       <td>\n",
      "        <span>\n",
      "         www.orfonline.org/covid19-tracker/\n",
      "        </span>\n",
      "       </td>\n",
      "      </tr>\n",
      "      <tr>\n",
      "       <td>\n",
      "        Your Browser:\n",
      "       </td>\n",
      "       <td>\n",
      "        <span>\n",
      "         python-requests/2.22.0\n",
      "        </span>\n",
      "       </td>\n",
      "      </tr>\n",
      "      <tr>\n",
      "       <td>\n",
      "        Block ID:\n",
      "       </td>\n",
      "       <td>\n",
      "        <span>\n",
      "         BNP005\n",
      "        </span>\n",
      "       </td>\n",
      "      </tr>\n",
      "      <tr>\n",
      "       <td>\n",
      "        Block reason:\n",
      "       </td>\n",
      "       <td>\n",
      "        <span>\n",
      "         Bad bot access attempt.\n",
      "        </span>\n",
      "       </td>\n",
      "      </tr>\n",
      "      <tr>\n",
      "       <td>\n",
      "        Time:\n",
      "       </td>\n",
      "       <td>\n",
      "        <span>\n",
      "         2020-03-29 04:14:06\n",
      "        </span>\n",
      "       </td>\n",
      "      </tr>\n",
      "      <tr>\n",
      "       <td>\n",
      "        Server ID:\n",
      "       </td>\n",
      "       <td>\n",
      "        <span>\n",
      "         18002\n",
      "        </span>\n",
      "       </td>\n",
      "      </tr>\n",
      "     </table>\n",
      "    </div>\n",
      "   </section>\n",
      "   <footer>\n",
      "    <span>\n",
      "     © 2019 Sucuri Inc. All rights reserved.\n",
      "    </span>\n",
      "    <span id=\"privacy-policy\">\n",
      "     <a href=\"https://sucuri.net/privacy-policy?utm_source=firewall_block\" rel=\"nofollow noopener\" target=\"_blank\">\n",
      "      Privacy\n",
      "     </a>\n",
      "    </span>\n",
      "   </footer>\n",
      "  </div>\n",
      " </body>\n",
      "</html>\n",
      "\n"
     ]
    }
   ],
   "source": [
    "soup = BeautifulSoup(website_url,'lxml')\n",
    "print(soup.prettify())"
   ]
  },
  {
   "cell_type": "code",
   "execution_count": 4,
   "metadata": {},
   "outputs": [
    {
     "data": {
      "text/plain": [
       "'World - Covid-19 Tracker | Live Cases & Deaths'"
      ]
     },
     "execution_count": 4,
     "metadata": {},
     "output_type": "execute_result"
    }
   ],
   "source": [
    "Title = soup.title.text\n",
    "Title"
   ]
  },
  {
   "cell_type": "code",
   "execution_count": 4,
   "metadata": {},
   "outputs": [
    {
     "data": {
      "text/plain": [
       "[]"
      ]
     },
     "execution_count": 4,
     "metadata": {},
     "output_type": "execute_result"
    }
   ],
   "source": [
    "data_tag = soup.find_all('div',class_='areaWrapper')\n",
    "data_tag"
   ]
  },
  {
   "cell_type": "code",
   "execution_count": 6,
   "metadata": {},
   "outputs": [],
   "source": [
    "Country_Name = []\n",
    "Confirmed  = []\n",
    "Recovered = []\n",
    "Deaths = []\n",
    "\n",
    "    "
   ]
  },
  {
   "cell_type": "code",
   "execution_count": 7,
   "metadata": {},
   "outputs": [],
   "source": [
    "Country_Name = []\n",
    "for item in data_tag[0::4]:\n",
    "    if len(item)==1:\n",
    "        match = item.text\n",
    "\n",
    "        Country_Name.append(match)\n",
    "    else:\n",
    "        Country_Name.append(np.nan)\n"
   ]
  },
  {
   "cell_type": "code",
   "execution_count": 8,
   "metadata": {},
   "outputs": [
    {
     "data": {
      "text/plain": [
       "200"
      ]
     },
     "execution_count": 8,
     "metadata": {},
     "output_type": "execute_result"
    }
   ],
   "source": [
    "len(Country_Name)"
   ]
  },
  {
   "cell_type": "code",
   "execution_count": 9,
   "metadata": {},
   "outputs": [],
   "source": [
    "Total_confirmed = []\n",
    "for item in data_tag[1::4]:\n",
    "    if len(item)==1:\n",
    "        match = item.text\n",
    "\n",
    "        Total_confirmed.append(match)\n",
    "    else:\n",
    "        Total_confirmed.append(np.nan)\n"
   ]
  },
  {
   "cell_type": "code",
   "execution_count": 10,
   "metadata": {},
   "outputs": [
    {
     "data": {
      "text/plain": [
       "200"
      ]
     },
     "execution_count": 10,
     "metadata": {},
     "output_type": "execute_result"
    }
   ],
   "source": [
    "len(Total_confirmed)"
   ]
  },
  {
   "cell_type": "code",
   "execution_count": 11,
   "metadata": {},
   "outputs": [],
   "source": [
    "Recovered = []\n",
    "for item in data_tag[2::4]:\n",
    "    if len(item)==1:\n",
    "        match = item.text\n",
    "\n",
    "        Recovered.append(match)\n",
    "    else:\n",
    "        Recovered.append(np.nan)\n"
   ]
  },
  {
   "cell_type": "code",
   "execution_count": 12,
   "metadata": {},
   "outputs": [
    {
     "data": {
      "text/plain": [
       "200"
      ]
     },
     "execution_count": 12,
     "metadata": {},
     "output_type": "execute_result"
    }
   ],
   "source": [
    "len(Recovered)"
   ]
  },
  {
   "cell_type": "code",
   "execution_count": 13,
   "metadata": {},
   "outputs": [],
   "source": [
    "Deaths = []\n",
    "for item in data_tag[3::4]:\n",
    "    if len(item)==1:\n",
    "        match = item.text\n",
    "\n",
    "        Deaths.append(match)\n",
    "    else:\n",
    "        Deaths.append(np.nan)\n"
   ]
  },
  {
   "cell_type": "code",
   "execution_count": 14,
   "metadata": {},
   "outputs": [
    {
     "data": {
      "text/plain": [
       "200"
      ]
     },
     "execution_count": 14,
     "metadata": {},
     "output_type": "execute_result"
    }
   ],
   "source": [
    "len(Deaths)"
   ]
  },
  {
   "cell_type": "code",
   "execution_count": 15,
   "metadata": {},
   "outputs": [],
   "source": [
    "Covid_data = pd.DataFrame()\n",
    "Covid_data['Country_Name'] = Country_Name\n",
    "Covid_data['Total_confirmed'] = Total_confirmed\n",
    "Covid_data['Total_Recovered'] = Recovered\n",
    "Covid_data['Total_Deaths'] = Deaths"
   ]
  },
  {
   "cell_type": "code",
   "execution_count": 16,
   "metadata": {},
   "outputs": [
    {
     "data": {
      "text/html": [
       "<div>\n",
       "<style scoped>\n",
       "    .dataframe tbody tr th:only-of-type {\n",
       "        vertical-align: middle;\n",
       "    }\n",
       "\n",
       "    .dataframe tbody tr th {\n",
       "        vertical-align: top;\n",
       "    }\n",
       "\n",
       "    .dataframe thead th {\n",
       "        text-align: right;\n",
       "    }\n",
       "</style>\n",
       "<table border=\"1\" class=\"dataframe\">\n",
       "  <thead>\n",
       "    <tr style=\"text-align: right;\">\n",
       "      <th></th>\n",
       "      <th>Country_Name</th>\n",
       "      <th>Total_confirmed</th>\n",
       "      <th>Total_Recovered</th>\n",
       "      <th>Total_Deaths</th>\n",
       "    </tr>\n",
       "  </thead>\n",
       "  <tbody>\n",
       "    <tr>\n",
       "      <th>0</th>\n",
       "      <td>\\n              USA\\n</td>\n",
       "      <td>123,750</td>\n",
       "      <td>3,231</td>\n",
       "      <td>2,227</td>\n",
       "    </tr>\n",
       "    <tr>\n",
       "      <th>1</th>\n",
       "      <td>\\n              Italy\\n</td>\n",
       "      <td>92,472</td>\n",
       "      <td>12,384</td>\n",
       "      <td>10,023</td>\n",
       "    </tr>\n",
       "    <tr>\n",
       "      <th>2</th>\n",
       "      <td>\\n              China\\n</td>\n",
       "      <td>81,439</td>\n",
       "      <td>75,448</td>\n",
       "      <td>3,300</td>\n",
       "    </tr>\n",
       "    <tr>\n",
       "      <th>3</th>\n",
       "      <td>\\n              Spain\\n</td>\n",
       "      <td>73,235</td>\n",
       "      <td>12,285</td>\n",
       "      <td>5,982</td>\n",
       "    </tr>\n",
       "    <tr>\n",
       "      <th>4</th>\n",
       "      <td>\\n              Germany\\n</td>\n",
       "      <td>57,695</td>\n",
       "      <td>8,481</td>\n",
       "      <td>433</td>\n",
       "    </tr>\n",
       "    <tr>\n",
       "      <th>...</th>\n",
       "      <td>...</td>\n",
       "      <td>...</td>\n",
       "      <td>...</td>\n",
       "      <td>...</td>\n",
       "    </tr>\n",
       "    <tr>\n",
       "      <th>195</th>\n",
       "      <td>\\n              Guinea-Bissau\\n</td>\n",
       "      <td>2</td>\n",
       "      <td>0</td>\n",
       "      <td>0</td>\n",
       "    </tr>\n",
       "    <tr>\n",
       "      <th>196</th>\n",
       "      <td>\\n              Kosovo\\n</td>\n",
       "      <td>2</td>\n",
       "      <td>0</td>\n",
       "      <td>0</td>\n",
       "    </tr>\n",
       "    <tr>\n",
       "      <th>197</th>\n",
       "      <td>\\n              St. Vincent Grenadines\\n      ...</td>\n",
       "      <td>1</td>\n",
       "      <td>1</td>\n",
       "      <td>0</td>\n",
       "    </tr>\n",
       "    <tr>\n",
       "      <th>198</th>\n",
       "      <td>\\n              Timor-Leste\\n</td>\n",
       "      <td>1</td>\n",
       "      <td>0</td>\n",
       "      <td>0</td>\n",
       "    </tr>\n",
       "    <tr>\n",
       "      <th>199</th>\n",
       "      <td>\\n              Papua New Guinea\\n</td>\n",
       "      <td>1</td>\n",
       "      <td>0</td>\n",
       "      <td>0</td>\n",
       "    </tr>\n",
       "  </tbody>\n",
       "</table>\n",
       "<p>200 rows × 4 columns</p>\n",
       "</div>"
      ],
      "text/plain": [
       "                                          Country_Name Total_confirmed  \\\n",
       "0                    \\n              USA\\n                     123,750   \n",
       "1                  \\n              Italy\\n                      92,472   \n",
       "2                  \\n              China\\n                      81,439   \n",
       "3                  \\n              Spain\\n                      73,235   \n",
       "4                \\n              Germany\\n                      57,695   \n",
       "..                                                 ...             ...   \n",
       "195        \\n              Guinea-Bissau\\n                           2   \n",
       "196               \\n              Kosovo\\n                           2   \n",
       "197  \\n              St. Vincent Grenadines\\n      ...               1   \n",
       "198          \\n              Timor-Leste\\n                           1   \n",
       "199     \\n              Papua New Guinea\\n                           1   \n",
       "\n",
       "    Total_Recovered Total_Deaths  \n",
       "0             3,231        2,227  \n",
       "1            12,384       10,023  \n",
       "2            75,448        3,300  \n",
       "3            12,285        5,982  \n",
       "4             8,481          433  \n",
       "..              ...          ...  \n",
       "195               0            0  \n",
       "196               0            0  \n",
       "197               1            0  \n",
       "198               0            0  \n",
       "199               0            0  \n",
       "\n",
       "[200 rows x 4 columns]"
      ]
     },
     "execution_count": 16,
     "metadata": {},
     "output_type": "execute_result"
    }
   ],
   "source": [
    "Covid_data"
   ]
  },
  {
   "cell_type": "code",
   "execution_count": 23,
   "metadata": {},
   "outputs": [
    {
     "data": {
      "text/plain": [
       "0                      \\n              USA\\n            \n",
       "1                    \\n              Italy\\n            \n",
       "2                    \\n              China\\n            \n",
       "3                    \\n              Spain\\n            \n",
       "4                  \\n              Germany\\n            \n",
       "                             ...                        \n",
       "195          \\n              Guinea-Bissau\\n            \n",
       "196                 \\n              Kosovo\\n            \n",
       "197    \\n              St. Vincent Grenadines\\n      ...\n",
       "198            \\n              Timor-Leste\\n            \n",
       "199       \\n              Papua New Guinea\\n            \n",
       "Name: Country_Name, Length: 200, dtype: object"
      ]
     },
     "execution_count": 23,
     "metadata": {},
     "output_type": "execute_result"
    }
   ],
   "source": [
    "Covid_data.Country_Name"
   ]
  },
  {
   "cell_type": "code",
   "execution_count": 28,
   "metadata": {},
   "outputs": [],
   "source": [
    "#re.sub('[^A-Za-z0-9]+', '', Covid_data.Country_Name.str)\n",
    "Covid_data['Country_Name'] = Covid_data['Country_Name'].str.replace('\\W', '')"
   ]
  },
  {
   "cell_type": "code",
   "execution_count": 30,
   "metadata": {},
   "outputs": [
    {
     "data": {
      "text/html": [
       "<div>\n",
       "<style scoped>\n",
       "    .dataframe tbody tr th:only-of-type {\n",
       "        vertical-align: middle;\n",
       "    }\n",
       "\n",
       "    .dataframe tbody tr th {\n",
       "        vertical-align: top;\n",
       "    }\n",
       "\n",
       "    .dataframe thead th {\n",
       "        text-align: right;\n",
       "    }\n",
       "</style>\n",
       "<table border=\"1\" class=\"dataframe\">\n",
       "  <thead>\n",
       "    <tr style=\"text-align: right;\">\n",
       "      <th></th>\n",
       "      <th>Country_Name</th>\n",
       "      <th>Total_confirmed</th>\n",
       "      <th>Total_Recovered</th>\n",
       "      <th>Total_Deaths</th>\n",
       "    </tr>\n",
       "  </thead>\n",
       "  <tbody>\n",
       "    <tr>\n",
       "      <th>0</th>\n",
       "      <td>USA</td>\n",
       "      <td>123,750</td>\n",
       "      <td>3,231</td>\n",
       "      <td>2,227</td>\n",
       "    </tr>\n",
       "    <tr>\n",
       "      <th>1</th>\n",
       "      <td>Italy</td>\n",
       "      <td>92,472</td>\n",
       "      <td>12,384</td>\n",
       "      <td>10,023</td>\n",
       "    </tr>\n",
       "    <tr>\n",
       "      <th>2</th>\n",
       "      <td>China</td>\n",
       "      <td>81,439</td>\n",
       "      <td>75,448</td>\n",
       "      <td>3,300</td>\n",
       "    </tr>\n",
       "    <tr>\n",
       "      <th>3</th>\n",
       "      <td>Spain</td>\n",
       "      <td>73,235</td>\n",
       "      <td>12,285</td>\n",
       "      <td>5,982</td>\n",
       "    </tr>\n",
       "    <tr>\n",
       "      <th>4</th>\n",
       "      <td>Germany</td>\n",
       "      <td>57,695</td>\n",
       "      <td>8,481</td>\n",
       "      <td>433</td>\n",
       "    </tr>\n",
       "    <tr>\n",
       "      <th>...</th>\n",
       "      <td>...</td>\n",
       "      <td>...</td>\n",
       "      <td>...</td>\n",
       "      <td>...</td>\n",
       "    </tr>\n",
       "    <tr>\n",
       "      <th>195</th>\n",
       "      <td>GuineaBissau</td>\n",
       "      <td>2</td>\n",
       "      <td>0</td>\n",
       "      <td>0</td>\n",
       "    </tr>\n",
       "    <tr>\n",
       "      <th>196</th>\n",
       "      <td>Kosovo</td>\n",
       "      <td>2</td>\n",
       "      <td>0</td>\n",
       "      <td>0</td>\n",
       "    </tr>\n",
       "    <tr>\n",
       "      <th>197</th>\n",
       "      <td>StVincentGrenadines</td>\n",
       "      <td>1</td>\n",
       "      <td>1</td>\n",
       "      <td>0</td>\n",
       "    </tr>\n",
       "    <tr>\n",
       "      <th>198</th>\n",
       "      <td>TimorLeste</td>\n",
       "      <td>1</td>\n",
       "      <td>0</td>\n",
       "      <td>0</td>\n",
       "    </tr>\n",
       "    <tr>\n",
       "      <th>199</th>\n",
       "      <td>PapuaNewGuinea</td>\n",
       "      <td>1</td>\n",
       "      <td>0</td>\n",
       "      <td>0</td>\n",
       "    </tr>\n",
       "  </tbody>\n",
       "</table>\n",
       "<p>200 rows × 4 columns</p>\n",
       "</div>"
      ],
      "text/plain": [
       "            Country_Name Total_confirmed Total_Recovered Total_Deaths\n",
       "0                    USA         123,750           3,231        2,227\n",
       "1                  Italy          92,472          12,384       10,023\n",
       "2                  China          81,439          75,448        3,300\n",
       "3                  Spain          73,235          12,285        5,982\n",
       "4                Germany          57,695           8,481          433\n",
       "..                   ...             ...             ...          ...\n",
       "195         GuineaBissau               2               0            0\n",
       "196               Kosovo               2               0            0\n",
       "197  StVincentGrenadines               1               1            0\n",
       "198           TimorLeste               1               0            0\n",
       "199       PapuaNewGuinea               1               0            0\n",
       "\n",
       "[200 rows x 4 columns]"
      ]
     },
     "execution_count": 30,
     "metadata": {},
     "output_type": "execute_result"
    }
   ],
   "source": [
    "Covid_data"
   ]
  },
  {
   "cell_type": "code",
   "execution_count": null,
   "metadata": {},
   "outputs": [],
   "source": []
  }
 ],
 "metadata": {
  "kernelspec": {
   "display_name": "Python 3",
   "language": "python",
   "name": "python3"
  },
  "language_info": {
   "codemirror_mode": {
    "name": "ipython",
    "version": 3
   },
   "file_extension": ".py",
   "mimetype": "text/x-python",
   "name": "python",
   "nbconvert_exporter": "python",
   "pygments_lexer": "ipython3",
   "version": "3.7.3"
  }
 },
 "nbformat": 4,
 "nbformat_minor": 2
}
